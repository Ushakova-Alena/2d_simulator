{
 "cells": [
  {
   "cell_type": "code",
   "execution_count": null,
   "metadata": {},
   "outputs": [
    {
     "name": "stderr",
     "output_type": "stream",
     "text": [
      "Updating HTML index of packages in '.Library'\n",
      "Making 'packages.html' ... done\n",
      "Updating HTML index of packages in '.Library'\n",
      "Making 'packages.html' ... done\n",
      "also installing the dependencies ‘ps’, ‘processx’, ‘callr’, ‘pkgbuild’, ‘pkgload’\n",
      "\n",
      "Updating HTML index of packages in '.Library'\n",
      "Making 'packages.html' ... done\n",
      "also installing the dependency ‘polyclip’\n",
      "\n"
     ]
    }
   ],
   "source": [
    "install.packages(\"Rcpp\")\n",
    "install.packages(\"testthat\")\n",
    "install.packages(\"roxygen2\")\n",
    "install.packages(\"spatstat\")"
   ]
  },
  {
   "cell_type": "code",
   "execution_count": null,
   "metadata": {},
   "outputs": [],
   "source": [
    "require(devtools)\n",
    "require(Rcpp)\n",
    "require(BH)\n",
    "require(testthat)"
   ]
  },
  {
   "cell_type": "code",
   "execution_count": null,
   "metadata": {},
   "outputs": [],
   "source": [
    "options(unzip = \"internal\")\n",
    "devtools::install_github(\"YegorGalkin/RcppSim\",quick=TRUE,local=FALSE)"
   ]
  },
  {
   "cell_type": "code",
   "execution_count": null,
   "metadata": {},
   "outputs": [],
   "source": [
    "require(MathBioSim)\n",
    "\n",
    "scales=10^(0:10/50)\n",
    "\n",
    "areas=scales\n",
    "\n",
    "pop<-list()\n",
    "\n",
    "time_start<-Sys.time()\n",
    "\n",
    "for(i in 1:length(scales)){\n",
    "  \n",
    "x_grid=(0:1000)/1000*0.002*scales[i]*10 \n",
    "  \n",
    "death_kernel=dnorm(x_grid,sd=0.001*scales[i])\n",
    "\n",
    "birth_kernel=dnorm(x_grid,sd=0.002*scales[i])\n",
    "\n",
    "params<-list(\"area_length_x\"=areas[i],    \n",
    "             \"cell_count_x\"=100,  \n",
    "             \n",
    "             \"b\"=0.3,    \n",
    "             \"d\"=0,    \n",
    "             \"dd\"=0.01*scales[i], \n",
    "             \n",
    "             \"seed\"=1234,  \n",
    "             \"init_density\"=100/scales[i],\n",
    "             \n",
    "             \"death_kernel_x\"=x_grid,\n",
    "             \"death_kernel_y\"=death_kernel,\n",
    "             \n",
    "             \"birth_kernel_x\"=x_grid,\n",
    "             \"birth_kernel_y\"=birth_kernel, \n",
    "             \n",
    "             \"spline_precision\" = 1e-6  \n",
    ")\n",
    "sim<-new(poisson_1d,params)\n",
    "pop[[i]]<-numeric(100000)\n",
    "for(j in 1:(100000)){\n",
    "  sim$make_event()\n",
    "  pop[[i]][j]=sim$total_population\n",
    "}\n",
    "message(paste(i,\"done\"))\n",
    "}\n",
    "\n",
    "time_end<-Sys.time()\n",
    "time_end-time_start"
   ]
  },
  {
   "cell_type": "code",
   "execution_count": null,
   "metadata": {},
   "outputs": [],
   "source": [
    "require(ggplot2)\n",
    "require(dplyr)"
   ]
  },
  {
   "cell_type": "code",
   "execution_count": null,
   "metadata": {},
   "outputs": [],
   "source": [
    "mean_pop<-pop%>%sapply(function(x){x%>%tail(50000)%>%mean()})"
   ]
  },
  {
   "cell_type": "code",
   "execution_count": null,
   "metadata": {},
   "outputs": [],
   "source": [
    "ggplot(data=data.frame(scales=scales,mean_pop=mean_pop),aes(x=scales,y=mean_pop))+geom_point()+scale_x_log10()"
   ]
  },
  {
   "cell_type": "code",
   "execution_count": null,
   "metadata": {},
   "outputs": [],
   "source": [
    "#First simulation\n",
    "ggplot(data=data.frame(event=1:100000,pop=pop[[1]]),aes(x=event,y=pop))+geom_line()"
   ]
  },
  {
   "cell_type": "code",
   "execution_count": null,
   "metadata": {},
   "outputs": [],
   "source": [
    "#Fiftieth simulation\n",
    "ggplot(data=data.frame(event=1:100000,pop=pop[[50]]),aes(x=event,y=pop))+geom_line()"
   ]
  },
  {
   "cell_type": "code",
   "execution_count": null,
   "metadata": {},
   "outputs": [],
   "source": [
    "#Last simulation\n",
    "ggplot(data=data.frame(event=1:100000,pop=pop[[151]]),aes(x=event,y=pop))+geom_line()"
   ]
  },
  {
   "cell_type": "code",
   "execution_count": null,
   "metadata": {},
   "outputs": [],
   "source": [
    "plot_ith_density=function(i){\n",
    "    death_kernel=dnorm(x_grid,sd=0.001*scales[i])\n",
    "    birth_kernel=dnorm(x_grid,sd=0.002*scales[i])\n",
    "\n",
    "params<-list(\"area_length_x\"=areas[i],    \n",
    "             \"cell_count_x\"=100,  \n",
    "             \n",
    "             \"b\"=0.3,    \n",
    "             \"d\"=0,    \n",
    "             \"dd\"=0.01*scales[i], \n",
    "             \n",
    "             \"seed\"=1234,  \n",
    "             \"init_density\"=100/scales[i],\n",
    "             \n",
    "             \"death_kernel_x\"=x_grid,\n",
    "             \"death_kernel_y\"=death_kernel,\n",
    "             \n",
    "             \"birth_kernel_x\"=x_grid,\n",
    "             \"birth_kernel_y\"=birth_kernel, \n",
    "             \n",
    "             \"spline_precision\" = 1e-6  \n",
    ")\n",
    "sim<-new(poisson_1d,params)\n",
    "\n",
    "all_coords<-list()\n",
    "\n",
    "for(j in 1:(100000)){\n",
    "  sim$make_event()\n",
    "  if(j%%1000==0) all_coords[[j%/%1000]]<-sim$get_all_coordinates()\n",
    "}\n",
    "ggplot(data=data.frame(coords=unlist(all_coords%>%tail(50))),aes(coords))+geom_histogram(bins=60)\n",
    "}"
   ]
  },
  {
   "cell_type": "code",
   "execution_count": null,
   "metadata": {},
   "outputs": [],
   "source": [
    "plot_ith_density(1)"
   ]
  },
  {
   "cell_type": "code",
   "execution_count": null,
   "metadata": {},
   "outputs": [],
   "source": [
    "plot_ith_density(50)"
   ]
  },
  {
   "cell_type": "code",
   "execution_count": null,
   "metadata": {},
   "outputs": [],
   "source": [
    "plot_ith_density(150)"
   ]
  },
  {
   "cell_type": "code",
   "execution_count": null,
   "metadata": {},
   "outputs": [],
   "source": [
    "scales=10^(0:100/50)\n",
    "\n",
    "areas=scales\n",
    "\n",
    "pop<-list()\n",
    "\n",
    "time_start<-Sys.time()\n",
    "\n",
    "for(i in 1:length(scales)){\n",
    "  \n",
    "x_grid=(0:1000)/1000*0.002*10 \n",
    "  \n",
    "death_kernel=dnorm(x_grid,sd=0.001)\n",
    "\n",
    "birth_kernel=dnorm(x_grid,sd=0.002)\n",
    "\n",
    "params<-list(\"area_length_x\"=areas[i],    \n",
    "             \"cell_count_x\"=100,  \n",
    "             \n",
    "             \"b\"=0.3,    \n",
    "             \"d\"=0,    \n",
    "             \"dd\"=0.01, \n",
    "             \n",
    "             \"seed\"=1234,  \n",
    "             \"init_density\"=100,\n",
    "             \n",
    "             \"death_kernel_x\"=x_grid,\n",
    "             \"death_kernel_y\"=death_kernel,\n",
    "             \n",
    "             \"birth_kernel_x\"=x_grid,\n",
    "             \"birth_kernel_y\"=birth_kernel, \n",
    "             \n",
    "             \"spline_precision\" = 1e-6  \n",
    ")\n",
    "sim<-new(poisson_1d,params)\n",
    "pop[[i]]<-numeric(100000*sqrt(scales[i]))\n",
    "for(j in 1:(100000*sqrt(scales[i]))){\n",
    "  sim$make_event()\n",
    "  pop[[i]][j]=sim$total_population\n",
    "}\n",
    "message(paste(i,\"done\"))\n",
    "}\n",
    "\n",
    "time_end<-Sys.time()\n",
    "time_end-time_start"
   ]
  },
  {
   "cell_type": "code",
   "execution_count": null,
   "metadata": {},
   "outputs": [],
   "source": [
    "mean_pop<-pop%>%sapply(function(x){x%>%tail(50000)%>%mean()})"
   ]
  },
  {
   "cell_type": "code",
   "execution_count": null,
   "metadata": {},
   "outputs": [],
   "source": [
    "ggplot(data=data.frame(scales=scales,mean_pop=mean_pop),aes(x=scales,y=mean_pop))+geom_point()"
   ]
  },
  {
   "cell_type": "code",
   "execution_count": null,
   "metadata": {},
   "outputs": [],
   "source": [
    "lm(mean_pop~scales-1)"
   ]
  },
  {
   "cell_type": "code",
   "execution_count": null,
   "metadata": {},
   "outputs": [],
   "source": [
    "install.packages(\"spatstat\")"
   ]
  },
  {
   "cell_type": "code",
   "execution_count": null,
   "metadata": {},
   "outputs": [],
   "source": [
    "require(spatstat)\n",
    "points<-unique.ppp(ppp(sim$get_all_coordinates(),rep(0,sim$total_population),c(0,100),c(-50,50)))\n",
    "\n",
    "K_estimate<-Kest(points,r=x_grid,correction=\"Ripley\")\n",
    "\n",
    "ggplot(data=data.frame(Kest=K_estimate$iso/2,x=x_grid),aes(x=x,y=Kest))+geom_line()"
   ]
  },
  {
   "cell_type": "code",
   "execution_count": null,
   "metadata": {},
   "outputs": [],
   "source": [
    "pcf_estimate=data.frame(Kest=K_estimate$iso/2,x=x_grid)%>%\n",
    "  mutate(pfc=(Kest-lag(Kest))/(x_grid-lag(x_grid))/sim$area_length_x)\n",
    "\n",
    "ggplot(data=pcf_estimate,aes(x=x,y=pfc))+geom_line()+\n",
    "  labs(x=\"r\",y=\"PCF\")"
   ]
  },
  {
   "cell_type": "code",
   "execution_count": null,
   "metadata": {},
   "outputs": [],
   "source": []
  }
 ],
 "metadata": {
  "kernelspec": {
   "display_name": "R",
   "language": "R",
   "name": "ir"
  },
  "language_info": {
   "codemirror_mode": "r",
   "file_extension": ".r",
   "mimetype": "text/x-r-source",
   "name": "R",
   "pygments_lexer": "r",
   "version": "3.5.1"
  }
 },
 "nbformat": 4,
 "nbformat_minor": 2
}
